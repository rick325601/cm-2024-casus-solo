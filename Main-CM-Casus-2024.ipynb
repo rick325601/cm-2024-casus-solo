{
 "cells": [
  {
   "cell_type": "markdown",
   "metadata": {},
   "source": [
    "# CM Casus 2024"
   ]
  },
  {
   "cell_type": "markdown",
   "metadata": {},
   "source": [
    "## Index\n",
    "\n",
    " 1. [Projectleden](#Projectleden)\n",
    " 2. [Onderzoeksvragen](#Onderzoeksvragen)\n",
    " 3. [Algemene Bewerkingen](#Algemene-Bewerkingen)\n",
    " 4. [Onderzoeksvraag 1](#Onderzoeksvraag-1)\n",
    " 5. [Onderzoeksvraag 2](#onderzoeksvraag-2)\n",
    " 6. [Onderzoeksvraag 3](#onderzoeksvraag-3)"
   ]
  },
  {
   "cell_type": "markdown",
   "metadata": {},
   "source": [
    "<a id=\"Projectleden\"></a>\n",
    "## Projectleden"
   ]
  },
  {
   "cell_type": "markdown",
   "metadata": {},
   "source": [
    "Dit document is gemaakt in 2024 door:\n",
    "\n",
    "Rick van der Kleij (1826226)  \n",
    "\n",
    "voor de Casus Opdracht van het vak Computational Modelling, aan de Hogeschool Utrecht, gegeven door: \n",
    "\n",
    "Rianne van Os."
   ]
  },
  {
   "cell_type": "markdown",
   "metadata": {},
   "source": [
    "<a id=\"Onderzoeksvragen\"></a>\n",
    "## Onderzoeksvragen"
   ]
  },
  {
   "cell_type": "markdown",
   "metadata": {},
   "source": [
    "[Onderzoeksvraag 1](#Onderzoeksvraag-1)"
   ]
  },
  {
   "cell_type": "markdown",
   "metadata": {},
   "source": [
    "In hoeverre is de omzet van een film te voorspellen op basis van de populariteit op Facebook en IMDB?"
   ]
  },
  {
   "cell_type": "markdown",
   "metadata": {},
   "source": [
    "[Onderzoeksvraag 2](#onderzoeksvraag-2)"
   ]
  },
  {
   "cell_type": "markdown",
   "metadata": {},
   "source": [
    "In hoeverre is het mogelijk om te voorspellen of een film een oscar heeft gewonnen op basis van de dataset."
   ]
  },
  {
   "cell_type": "markdown",
   "metadata": {},
   "source": [
    "[Onderzoeksvraag 3](#onderzoeksvraag-3)"
   ]
  },
  {
   "cell_type": "markdown",
   "metadata": {},
   "source": [
    "In hoeverre is het mogelijk om logische clusters te vinden o.b.v. onder andere budget en omzet?  \n",
    "Denk aan blockbusters (hoog budget en hoge omzet), flops (hoog budget en lage omzet) of cultfilms (laag budget en hoge omzet). Je mag extra features toevoegen."
   ]
  },
  {
   "cell_type": "markdown",
   "metadata": {},
   "source": [
    "<a id=\"Algemene-Bewerkingen\"></a>\n",
    "## Algemene Bewerkingen"
   ]
  },
  {
   "cell_type": "markdown",
   "metadata": {},
   "source": [
    "### Package Imports"
   ]
  },
  {
   "cell_type": "markdown",
   "metadata": {},
   "source": [
    "Voor dit project gaan we gebruik maken van de volgende libraries: \n",
    "- pandas \n",
    "- numpy \n",
    "- seaborn\n",
    "- matplotlib\n",
    "- scipy\n",
    "- sklearn"
   ]
  },
  {
   "cell_type": "code",
   "execution_count": 1,
   "metadata": {},
   "outputs": [],
   "source": [
    "import pandas as pd\n",
    "import numpy as np\n",
    "import seaborn as sns\n",
    "import matplotlib.pyplot as plt\n",
    "from scipy import stats\n",
    "from sklearn.model_selection import train_test_split\n",
    "from sklearn import linear_model\n",
    "from sklearn.mixture import GaussianMixture\n",
    "from sklearn.metrics import root_mean_squared_error\n",
    "from matplotlib.lines import Line2D\n",
    "from sklearn.tree import DecisionTreeClassifier\n",
    "from sklearn.tree import plot_tree\n",
    "from sklearn import metrics\n",
    "from sklearn.metrics import accuracy_score\n",
    "from sklearn.tree import export_graphviz\n",
    "import graphviz\n",
    "from sklearn.tree import plot_tree\n",
    "from sklearn.model_selection import train_test_split\n",
    "from sklearn.model_selection import GridSearchCV\n",
    "from sklearn.ensemble import RandomForestClassifier\n",
    "import joblib\n",
    "from sklearn.metrics import f1_score"
   ]
  },
  {
   "cell_type": "markdown",
   "metadata": {},
   "source": [
    "### Data Importeren"
   ]
  },
  {
   "cell_type": "code",
   "execution_count": 2,
   "metadata": {},
   "outputs": [],
   "source": [
    "movie_df = pd.read_csv(\"Movie_dataset.csv\")"
   ]
  },
  {
   "cell_type": "markdown",
   "metadata": {},
   "source": [
    "### Algemene Data Verkenning en Analyse\n"
   ]
  },
  {
   "cell_type": "markdown",
   "metadata": {},
   "source": [
    "Hier wordt de data ingedoken."
   ]
  },
  {
   "cell_type": "code",
   "execution_count": 3,
   "metadata": {},
   "outputs": [
    {
     "data": {
      "text/html": [
       "<div>\n",
       "<style scoped>\n",
       "    .dataframe tbody tr th:only-of-type {\n",
       "        vertical-align: middle;\n",
       "    }\n",
       "\n",
       "    .dataframe tbody tr th {\n",
       "        vertical-align: top;\n",
       "    }\n",
       "\n",
       "    .dataframe thead th {\n",
       "        text-align: right;\n",
       "    }\n",
       "</style>\n",
       "<table border=\"1\" class=\"dataframe\">\n",
       "  <thead>\n",
       "    <tr style=\"text-align: right;\">\n",
       "      <th></th>\n",
       "      <th>color</th>\n",
       "      <th>director_name</th>\n",
       "      <th>num_critic_for_reviews</th>\n",
       "      <th>duration</th>\n",
       "      <th>director_facebook_likes</th>\n",
       "      <th>actor_3_facebook_likes</th>\n",
       "      <th>actor_2_name</th>\n",
       "      <th>actor_1_facebook_likes</th>\n",
       "      <th>gross</th>\n",
       "      <th>genres</th>\n",
       "      <th>...</th>\n",
       "      <th>num_user_for_reviews</th>\n",
       "      <th>language</th>\n",
       "      <th>country</th>\n",
       "      <th>content_rating</th>\n",
       "      <th>budget</th>\n",
       "      <th>title_year</th>\n",
       "      <th>actor_2_facebook_likes</th>\n",
       "      <th>imdb_score</th>\n",
       "      <th>aspect_ratio</th>\n",
       "      <th>movie_facebook_likes</th>\n",
       "    </tr>\n",
       "  </thead>\n",
       "  <tbody>\n",
       "    <tr>\n",
       "      <th>0</th>\n",
       "      <td>Color</td>\n",
       "      <td>James Cameron</td>\n",
       "      <td>723.0</td>\n",
       "      <td>178.0</td>\n",
       "      <td>0.0</td>\n",
       "      <td>855.0</td>\n",
       "      <td>Joel David Moore</td>\n",
       "      <td>1000.0</td>\n",
       "      <td>760505847.0</td>\n",
       "      <td>Action|Adventure|Fantasy|Sci-Fi</td>\n",
       "      <td>...</td>\n",
       "      <td>3054.0</td>\n",
       "      <td>English</td>\n",
       "      <td>USA</td>\n",
       "      <td>PG-13</td>\n",
       "      <td>237000000.0</td>\n",
       "      <td>2009.0</td>\n",
       "      <td>936.0</td>\n",
       "      <td>7.9</td>\n",
       "      <td>1.78</td>\n",
       "      <td>33000</td>\n",
       "    </tr>\n",
       "    <tr>\n",
       "      <th>1</th>\n",
       "      <td>Color</td>\n",
       "      <td>Gore Verbinski</td>\n",
       "      <td>302.0</td>\n",
       "      <td>169.0</td>\n",
       "      <td>563.0</td>\n",
       "      <td>1000.0</td>\n",
       "      <td>Orlando Bloom</td>\n",
       "      <td>40000.0</td>\n",
       "      <td>309404152.0</td>\n",
       "      <td>Action|Adventure|Fantasy</td>\n",
       "      <td>...</td>\n",
       "      <td>1238.0</td>\n",
       "      <td>English</td>\n",
       "      <td>USA</td>\n",
       "      <td>PG-13</td>\n",
       "      <td>300000000.0</td>\n",
       "      <td>2007.0</td>\n",
       "      <td>5000.0</td>\n",
       "      <td>7.1</td>\n",
       "      <td>2.35</td>\n",
       "      <td>0</td>\n",
       "    </tr>\n",
       "    <tr>\n",
       "      <th>2</th>\n",
       "      <td>Color</td>\n",
       "      <td>Sam Mendes</td>\n",
       "      <td>602.0</td>\n",
       "      <td>148.0</td>\n",
       "      <td>0.0</td>\n",
       "      <td>161.0</td>\n",
       "      <td>Rory Kinnear</td>\n",
       "      <td>11000.0</td>\n",
       "      <td>200074175.0</td>\n",
       "      <td>Action|Adventure|Thriller</td>\n",
       "      <td>...</td>\n",
       "      <td>994.0</td>\n",
       "      <td>English</td>\n",
       "      <td>UK</td>\n",
       "      <td>PG-13</td>\n",
       "      <td>245000000.0</td>\n",
       "      <td>2015.0</td>\n",
       "      <td>393.0</td>\n",
       "      <td>6.8</td>\n",
       "      <td>2.35</td>\n",
       "      <td>85000</td>\n",
       "    </tr>\n",
       "    <tr>\n",
       "      <th>3</th>\n",
       "      <td>Color</td>\n",
       "      <td>Christopher Nolan</td>\n",
       "      <td>813.0</td>\n",
       "      <td>164.0</td>\n",
       "      <td>22000.0</td>\n",
       "      <td>23000.0</td>\n",
       "      <td>Christian Bale</td>\n",
       "      <td>27000.0</td>\n",
       "      <td>448130642.0</td>\n",
       "      <td>Action|Thriller</td>\n",
       "      <td>...</td>\n",
       "      <td>2701.0</td>\n",
       "      <td>English</td>\n",
       "      <td>USA</td>\n",
       "      <td>PG-13</td>\n",
       "      <td>250000000.0</td>\n",
       "      <td>2012.0</td>\n",
       "      <td>23000.0</td>\n",
       "      <td>8.5</td>\n",
       "      <td>2.35</td>\n",
       "      <td>164000</td>\n",
       "    </tr>\n",
       "    <tr>\n",
       "      <th>4</th>\n",
       "      <td>NaN</td>\n",
       "      <td>Doug Walker</td>\n",
       "      <td>NaN</td>\n",
       "      <td>NaN</td>\n",
       "      <td>131.0</td>\n",
       "      <td>NaN</td>\n",
       "      <td>Rob Walker</td>\n",
       "      <td>131.0</td>\n",
       "      <td>NaN</td>\n",
       "      <td>Documentary</td>\n",
       "      <td>...</td>\n",
       "      <td>NaN</td>\n",
       "      <td>NaN</td>\n",
       "      <td>NaN</td>\n",
       "      <td>NaN</td>\n",
       "      <td>NaN</td>\n",
       "      <td>NaN</td>\n",
       "      <td>12.0</td>\n",
       "      <td>7.1</td>\n",
       "      <td>NaN</td>\n",
       "      <td>0</td>\n",
       "    </tr>\n",
       "  </tbody>\n",
       "</table>\n",
       "<p>5 rows × 28 columns</p>\n",
       "</div>"
      ],
      "text/plain": [
       "   color      director_name  num_critic_for_reviews  duration  \\\n",
       "0  Color      James Cameron                   723.0     178.0   \n",
       "1  Color     Gore Verbinski                   302.0     169.0   \n",
       "2  Color         Sam Mendes                   602.0     148.0   \n",
       "3  Color  Christopher Nolan                   813.0     164.0   \n",
       "4    NaN        Doug Walker                     NaN       NaN   \n",
       "\n",
       "   director_facebook_likes  actor_3_facebook_likes      actor_2_name  \\\n",
       "0                      0.0                   855.0  Joel David Moore   \n",
       "1                    563.0                  1000.0     Orlando Bloom   \n",
       "2                      0.0                   161.0      Rory Kinnear   \n",
       "3                  22000.0                 23000.0    Christian Bale   \n",
       "4                    131.0                     NaN        Rob Walker   \n",
       "\n",
       "   actor_1_facebook_likes        gross                           genres  ...  \\\n",
       "0                  1000.0  760505847.0  Action|Adventure|Fantasy|Sci-Fi  ...   \n",
       "1                 40000.0  309404152.0         Action|Adventure|Fantasy  ...   \n",
       "2                 11000.0  200074175.0        Action|Adventure|Thriller  ...   \n",
       "3                 27000.0  448130642.0                  Action|Thriller  ...   \n",
       "4                   131.0          NaN                      Documentary  ...   \n",
       "\n",
       "  num_user_for_reviews language  country  content_rating       budget  \\\n",
       "0               3054.0  English      USA           PG-13  237000000.0   \n",
       "1               1238.0  English      USA           PG-13  300000000.0   \n",
       "2                994.0  English       UK           PG-13  245000000.0   \n",
       "3               2701.0  English      USA           PG-13  250000000.0   \n",
       "4                  NaN      NaN      NaN             NaN          NaN   \n",
       "\n",
       "   title_year actor_2_facebook_likes imdb_score  aspect_ratio  \\\n",
       "0      2009.0                  936.0        7.9          1.78   \n",
       "1      2007.0                 5000.0        7.1          2.35   \n",
       "2      2015.0                  393.0        6.8          2.35   \n",
       "3      2012.0                23000.0        8.5          2.35   \n",
       "4         NaN                   12.0        7.1           NaN   \n",
       "\n",
       "  movie_facebook_likes  \n",
       "0                33000  \n",
       "1                    0  \n",
       "2                85000  \n",
       "3               164000  \n",
       "4                    0  \n",
       "\n",
       "[5 rows x 28 columns]"
      ]
     },
     "execution_count": 3,
     "metadata": {},
     "output_type": "execute_result"
    }
   ],
   "source": [
    "movie_df.head()"
   ]
  },
  {
   "cell_type": "markdown",
   "metadata": {},
   "source": [
    "#### Feature Variabelen"
   ]
  },
  {
   "cell_type": "markdown",
   "metadata": {},
   "source": [
    "We gaan de feature variabelen onderzoeken. Als eerste gaan we voor elke kolom kijken wat het type en het meetniveau is.\n",
    "\n",
    "\n",
    "| Kolomnaam                 | Type   | Meetniveau |\n",
    "| ------------------------- | ------ | ---------- |\n",
    "| color                     | string | Nominaal   |\n",
    "| director_name             | string | Nominaal   |\n",
    "| num_critic_for_reviews    | int    | Discreet   |\n",
    "| duration                  | int    | Continu    |\n",
    "| director_facebook_likes   | int    | Discreet   |\n",
    "| actor_3_facebook_likes    | int    | Discreet   |\n",
    "| actor_2_name              | string | Nominaal   |\n",
    "| actor_1_facebook_likes    | int    | Discreet   |\n",
    "| gross                     | int    | Continu    |\n",
    "| genres                    | string | Nominaal   |\n",
    "| actor_1_name              | string | Nominaal   |\n",
    "| movie_title               | string | Nominaal   |\n",
    "| num_voted_users           | int    | Discreet   |\n",
    "| cast_total_facebook_likes | int    | Discreet   |\n",
    "| actor_3_name              | string | Nominaal   |\n",
    "| facenumber_in_poster      | int    | Discreet   |\n",
    "| plot_keywords             | string | Nominaal   |\n",
    "| movie_imdb_link           | string | Nominaal   |\n",
    "| num_user_for_reviews      | int    | Discreet   |\n",
    "| language                  | string | Nominaal   |\n",
    "| country                   | string | Nominaal   |\n",
    "| content_rating            | string | Nominaal   |\n",
    "| budget                    | int    | Continu    |\n",
    "| title_year                | int    | Discreet   |\n",
    "| actor_2_facebook_likes    | int    | Discreet   |\n",
    "| imdb_score                | float  | Discreet   |\n",
    "| aspect_ratio              | float  | Continu    |\n",
    "| movie_facebook_likes      | int    | Discreet   |\n",
    "\n",
    "Het is opvallend dat er geen ordinale variabelen voorkomen. "
   ]
  },
  {
   "cell_type": "markdown",
   "metadata": {},
   "source": [
    "<a id=\"NaN-Values\"></a>\n",
    "#### NaN Values"
   ]
  },
  {
   "cell_type": "markdown",
   "metadata": {},
   "source": [
    "We kijken hoeveel NaN waardes er in elke kolom zitten, zodat we weten of we rijen willen opvullen of willen weghalen. Omdat het belang van elke kolom per onderzoeksvraag verschilt, zullen we verderop in het document per onderzoeksvraag kijken hoe we met de ontbrekende waardes omgaan."
   ]
  },
  {
   "cell_type": "code",
   "execution_count": 4,
   "metadata": {},
   "outputs": [
    {
     "data": {
      "text/plain": [
       "color                         19\n",
       "director_name                104\n",
       "num_critic_for_reviews        50\n",
       "duration                      15\n",
       "director_facebook_likes      104\n",
       "actor_3_facebook_likes        23\n",
       "actor_2_name                  13\n",
       "actor_1_facebook_likes         7\n",
       "gross                        884\n",
       "genres                         0\n",
       "actor_1_name                   7\n",
       "movie_title                    0\n",
       "num_voted_users                0\n",
       "cast_total_facebook_likes      0\n",
       "actor_3_name                  23\n",
       "facenumber_in_poster          13\n",
       "plot_keywords                153\n",
       "movie_imdb_link                0\n",
       "num_user_for_reviews          21\n",
       "language                      14\n",
       "country                        5\n",
       "content_rating               303\n",
       "budget                       492\n",
       "title_year                   108\n",
       "actor_2_facebook_likes        13\n",
       "imdb_score                     0\n",
       "aspect_ratio                 329\n",
       "movie_facebook_likes           0\n",
       "dtype: int64"
      ]
     },
     "execution_count": 4,
     "metadata": {},
     "output_type": "execute_result"
    }
   ],
   "source": [
    "movie_df.isna().sum()"
   ]
  },
  {
   "cell_type": "markdown",
   "metadata": {},
   "source": [
    "<a id=\"Beschrijvende-Statistiek\"></a>\n",
    "#### Beschrijvende Statistiek"
   ]
  },
  {
   "cell_type": "markdown",
   "metadata": {},
   "source": [
    "We kijken naar beschrijvende statistiek van onze data. Dit doen we zodat we kunnen zien hoe de dataset verdeeld is."
   ]
  },
  {
   "cell_type": "code",
   "execution_count": 5,
   "metadata": {},
   "outputs": [
    {
     "data": {
      "text/html": [
       "<div>\n",
       "<style scoped>\n",
       "    .dataframe tbody tr th:only-of-type {\n",
       "        vertical-align: middle;\n",
       "    }\n",
       "\n",
       "    .dataframe tbody tr th {\n",
       "        vertical-align: top;\n",
       "    }\n",
       "\n",
       "    .dataframe thead th {\n",
       "        text-align: right;\n",
       "    }\n",
       "</style>\n",
       "<table border=\"1\" class=\"dataframe\">\n",
       "  <thead>\n",
       "    <tr style=\"text-align: right;\">\n",
       "      <th></th>\n",
       "      <th>color</th>\n",
       "      <th>director_name</th>\n",
       "      <th>num_critic_for_reviews</th>\n",
       "      <th>duration</th>\n",
       "      <th>director_facebook_likes</th>\n",
       "      <th>actor_3_facebook_likes</th>\n",
       "      <th>actor_2_name</th>\n",
       "      <th>actor_1_facebook_likes</th>\n",
       "      <th>gross</th>\n",
       "      <th>genres</th>\n",
       "      <th>...</th>\n",
       "      <th>num_user_for_reviews</th>\n",
       "      <th>language</th>\n",
       "      <th>country</th>\n",
       "      <th>content_rating</th>\n",
       "      <th>budget</th>\n",
       "      <th>title_year</th>\n",
       "      <th>actor_2_facebook_likes</th>\n",
       "      <th>imdb_score</th>\n",
       "      <th>aspect_ratio</th>\n",
       "      <th>movie_facebook_likes</th>\n",
       "    </tr>\n",
       "  </thead>\n",
       "  <tbody>\n",
       "    <tr>\n",
       "      <th>count</th>\n",
       "      <td>5024</td>\n",
       "      <td>4939</td>\n",
       "      <td>4993.000000</td>\n",
       "      <td>5028.000000</td>\n",
       "      <td>4939.000000</td>\n",
       "      <td>5020.000000</td>\n",
       "      <td>5030</td>\n",
       "      <td>5036.000000</td>\n",
       "      <td>4.159000e+03</td>\n",
       "      <td>5043</td>\n",
       "      <td>...</td>\n",
       "      <td>5022.000000</td>\n",
       "      <td>5029</td>\n",
       "      <td>5038</td>\n",
       "      <td>4740</td>\n",
       "      <td>4.551000e+03</td>\n",
       "      <td>4935.000000</td>\n",
       "      <td>5030.000000</td>\n",
       "      <td>5043.000000</td>\n",
       "      <td>4714.000000</td>\n",
       "      <td>5043.000000</td>\n",
       "    </tr>\n",
       "    <tr>\n",
       "      <th>unique</th>\n",
       "      <td>2</td>\n",
       "      <td>2398</td>\n",
       "      <td>NaN</td>\n",
       "      <td>NaN</td>\n",
       "      <td>NaN</td>\n",
       "      <td>NaN</td>\n",
       "      <td>3032</td>\n",
       "      <td>NaN</td>\n",
       "      <td>NaN</td>\n",
       "      <td>914</td>\n",
       "      <td>...</td>\n",
       "      <td>NaN</td>\n",
       "      <td>46</td>\n",
       "      <td>65</td>\n",
       "      <td>18</td>\n",
       "      <td>NaN</td>\n",
       "      <td>NaN</td>\n",
       "      <td>NaN</td>\n",
       "      <td>NaN</td>\n",
       "      <td>NaN</td>\n",
       "      <td>NaN</td>\n",
       "    </tr>\n",
       "    <tr>\n",
       "      <th>top</th>\n",
       "      <td>Color</td>\n",
       "      <td>Steven Spielberg</td>\n",
       "      <td>NaN</td>\n",
       "      <td>NaN</td>\n",
       "      <td>NaN</td>\n",
       "      <td>NaN</td>\n",
       "      <td>Morgan Freeman</td>\n",
       "      <td>NaN</td>\n",
       "      <td>NaN</td>\n",
       "      <td>Drama</td>\n",
       "      <td>...</td>\n",
       "      <td>NaN</td>\n",
       "      <td>English</td>\n",
       "      <td>USA</td>\n",
       "      <td>R</td>\n",
       "      <td>NaN</td>\n",
       "      <td>NaN</td>\n",
       "      <td>NaN</td>\n",
       "      <td>NaN</td>\n",
       "      <td>NaN</td>\n",
       "      <td>NaN</td>\n",
       "    </tr>\n",
       "    <tr>\n",
       "      <th>freq</th>\n",
       "      <td>4815</td>\n",
       "      <td>26</td>\n",
       "      <td>NaN</td>\n",
       "      <td>NaN</td>\n",
       "      <td>NaN</td>\n",
       "      <td>NaN</td>\n",
       "      <td>20</td>\n",
       "      <td>NaN</td>\n",
       "      <td>NaN</td>\n",
       "      <td>236</td>\n",
       "      <td>...</td>\n",
       "      <td>NaN</td>\n",
       "      <td>4704</td>\n",
       "      <td>3807</td>\n",
       "      <td>2118</td>\n",
       "      <td>NaN</td>\n",
       "      <td>NaN</td>\n",
       "      <td>NaN</td>\n",
       "      <td>NaN</td>\n",
       "      <td>NaN</td>\n",
       "      <td>NaN</td>\n",
       "    </tr>\n",
       "    <tr>\n",
       "      <th>mean</th>\n",
       "      <td>NaN</td>\n",
       "      <td>NaN</td>\n",
       "      <td>140.194272</td>\n",
       "      <td>107.201074</td>\n",
       "      <td>686.509212</td>\n",
       "      <td>645.009761</td>\n",
       "      <td>NaN</td>\n",
       "      <td>6560.047061</td>\n",
       "      <td>4.846841e+07</td>\n",
       "      <td>NaN</td>\n",
       "      <td>...</td>\n",
       "      <td>272.770808</td>\n",
       "      <td>NaN</td>\n",
       "      <td>NaN</td>\n",
       "      <td>NaN</td>\n",
       "      <td>3.975262e+07</td>\n",
       "      <td>2002.470517</td>\n",
       "      <td>1651.754473</td>\n",
       "      <td>6.442138</td>\n",
       "      <td>2.220403</td>\n",
       "      <td>7525.964505</td>\n",
       "    </tr>\n",
       "    <tr>\n",
       "      <th>std</th>\n",
       "      <td>NaN</td>\n",
       "      <td>NaN</td>\n",
       "      <td>121.601675</td>\n",
       "      <td>25.197441</td>\n",
       "      <td>2813.328607</td>\n",
       "      <td>1665.041728</td>\n",
       "      <td>NaN</td>\n",
       "      <td>15020.759120</td>\n",
       "      <td>6.845299e+07</td>\n",
       "      <td>NaN</td>\n",
       "      <td>...</td>\n",
       "      <td>377.982886</td>\n",
       "      <td>NaN</td>\n",
       "      <td>NaN</td>\n",
       "      <td>NaN</td>\n",
       "      <td>2.061149e+08</td>\n",
       "      <td>12.474599</td>\n",
       "      <td>4042.438863</td>\n",
       "      <td>1.125116</td>\n",
       "      <td>1.385113</td>\n",
       "      <td>19320.445110</td>\n",
       "    </tr>\n",
       "    <tr>\n",
       "      <th>min</th>\n",
       "      <td>NaN</td>\n",
       "      <td>NaN</td>\n",
       "      <td>1.000000</td>\n",
       "      <td>7.000000</td>\n",
       "      <td>0.000000</td>\n",
       "      <td>0.000000</td>\n",
       "      <td>NaN</td>\n",
       "      <td>0.000000</td>\n",
       "      <td>1.620000e+02</td>\n",
       "      <td>NaN</td>\n",
       "      <td>...</td>\n",
       "      <td>1.000000</td>\n",
       "      <td>NaN</td>\n",
       "      <td>NaN</td>\n",
       "      <td>NaN</td>\n",
       "      <td>2.180000e+02</td>\n",
       "      <td>1916.000000</td>\n",
       "      <td>0.000000</td>\n",
       "      <td>1.600000</td>\n",
       "      <td>1.180000</td>\n",
       "      <td>0.000000</td>\n",
       "    </tr>\n",
       "    <tr>\n",
       "      <th>25%</th>\n",
       "      <td>NaN</td>\n",
       "      <td>NaN</td>\n",
       "      <td>50.000000</td>\n",
       "      <td>93.000000</td>\n",
       "      <td>7.000000</td>\n",
       "      <td>133.000000</td>\n",
       "      <td>NaN</td>\n",
       "      <td>614.000000</td>\n",
       "      <td>5.340988e+06</td>\n",
       "      <td>NaN</td>\n",
       "      <td>...</td>\n",
       "      <td>65.000000</td>\n",
       "      <td>NaN</td>\n",
       "      <td>NaN</td>\n",
       "      <td>NaN</td>\n",
       "      <td>6.000000e+06</td>\n",
       "      <td>1999.000000</td>\n",
       "      <td>281.000000</td>\n",
       "      <td>5.800000</td>\n",
       "      <td>1.850000</td>\n",
       "      <td>0.000000</td>\n",
       "    </tr>\n",
       "    <tr>\n",
       "      <th>50%</th>\n",
       "      <td>NaN</td>\n",
       "      <td>NaN</td>\n",
       "      <td>110.000000</td>\n",
       "      <td>103.000000</td>\n",
       "      <td>49.000000</td>\n",
       "      <td>371.500000</td>\n",
       "      <td>NaN</td>\n",
       "      <td>988.000000</td>\n",
       "      <td>2.551750e+07</td>\n",
       "      <td>NaN</td>\n",
       "      <td>...</td>\n",
       "      <td>156.000000</td>\n",
       "      <td>NaN</td>\n",
       "      <td>NaN</td>\n",
       "      <td>NaN</td>\n",
       "      <td>2.000000e+07</td>\n",
       "      <td>2005.000000</td>\n",
       "      <td>595.000000</td>\n",
       "      <td>6.600000</td>\n",
       "      <td>2.350000</td>\n",
       "      <td>166.000000</td>\n",
       "    </tr>\n",
       "    <tr>\n",
       "      <th>75%</th>\n",
       "      <td>NaN</td>\n",
       "      <td>NaN</td>\n",
       "      <td>195.000000</td>\n",
       "      <td>118.000000</td>\n",
       "      <td>194.500000</td>\n",
       "      <td>636.000000</td>\n",
       "      <td>NaN</td>\n",
       "      <td>11000.000000</td>\n",
       "      <td>6.230944e+07</td>\n",
       "      <td>NaN</td>\n",
       "      <td>...</td>\n",
       "      <td>326.000000</td>\n",
       "      <td>NaN</td>\n",
       "      <td>NaN</td>\n",
       "      <td>NaN</td>\n",
       "      <td>4.500000e+07</td>\n",
       "      <td>2011.000000</td>\n",
       "      <td>918.000000</td>\n",
       "      <td>7.200000</td>\n",
       "      <td>2.350000</td>\n",
       "      <td>3000.000000</td>\n",
       "    </tr>\n",
       "    <tr>\n",
       "      <th>max</th>\n",
       "      <td>NaN</td>\n",
       "      <td>NaN</td>\n",
       "      <td>813.000000</td>\n",
       "      <td>511.000000</td>\n",
       "      <td>23000.000000</td>\n",
       "      <td>23000.000000</td>\n",
       "      <td>NaN</td>\n",
       "      <td>640000.000000</td>\n",
       "      <td>7.605058e+08</td>\n",
       "      <td>NaN</td>\n",
       "      <td>...</td>\n",
       "      <td>5060.000000</td>\n",
       "      <td>NaN</td>\n",
       "      <td>NaN</td>\n",
       "      <td>NaN</td>\n",
       "      <td>1.221550e+10</td>\n",
       "      <td>2016.000000</td>\n",
       "      <td>137000.000000</td>\n",
       "      <td>9.500000</td>\n",
       "      <td>16.000000</td>\n",
       "      <td>349000.000000</td>\n",
       "    </tr>\n",
       "  </tbody>\n",
       "</table>\n",
       "<p>11 rows × 28 columns</p>\n",
       "</div>"
      ],
      "text/plain": [
       "        color     director_name  num_critic_for_reviews     duration  \\\n",
       "count    5024              4939             4993.000000  5028.000000   \n",
       "unique      2              2398                     NaN          NaN   \n",
       "top     Color  Steven Spielberg                     NaN          NaN   \n",
       "freq     4815                26                     NaN          NaN   \n",
       "mean      NaN               NaN              140.194272   107.201074   \n",
       "std       NaN               NaN              121.601675    25.197441   \n",
       "min       NaN               NaN                1.000000     7.000000   \n",
       "25%       NaN               NaN               50.000000    93.000000   \n",
       "50%       NaN               NaN              110.000000   103.000000   \n",
       "75%       NaN               NaN              195.000000   118.000000   \n",
       "max       NaN               NaN              813.000000   511.000000   \n",
       "\n",
       "        director_facebook_likes  actor_3_facebook_likes    actor_2_name  \\\n",
       "count               4939.000000             5020.000000            5030   \n",
       "unique                      NaN                     NaN            3032   \n",
       "top                         NaN                     NaN  Morgan Freeman   \n",
       "freq                        NaN                     NaN              20   \n",
       "mean                 686.509212              645.009761             NaN   \n",
       "std                 2813.328607             1665.041728             NaN   \n",
       "min                    0.000000                0.000000             NaN   \n",
       "25%                    7.000000              133.000000             NaN   \n",
       "50%                   49.000000              371.500000             NaN   \n",
       "75%                  194.500000              636.000000             NaN   \n",
       "max                23000.000000            23000.000000             NaN   \n",
       "\n",
       "        actor_1_facebook_likes         gross genres  ... num_user_for_reviews  \\\n",
       "count              5036.000000  4.159000e+03   5043  ...          5022.000000   \n",
       "unique                     NaN           NaN    914  ...                  NaN   \n",
       "top                        NaN           NaN  Drama  ...                  NaN   \n",
       "freq                       NaN           NaN    236  ...                  NaN   \n",
       "mean               6560.047061  4.846841e+07    NaN  ...           272.770808   \n",
       "std               15020.759120  6.845299e+07    NaN  ...           377.982886   \n",
       "min                   0.000000  1.620000e+02    NaN  ...             1.000000   \n",
       "25%                 614.000000  5.340988e+06    NaN  ...            65.000000   \n",
       "50%                 988.000000  2.551750e+07    NaN  ...           156.000000   \n",
       "75%               11000.000000  6.230944e+07    NaN  ...           326.000000   \n",
       "max              640000.000000  7.605058e+08    NaN  ...          5060.000000   \n",
       "\n",
       "       language  country  content_rating        budget   title_year  \\\n",
       "count      5029     5038            4740  4.551000e+03  4935.000000   \n",
       "unique       46       65              18           NaN          NaN   \n",
       "top     English      USA               R           NaN          NaN   \n",
       "freq       4704     3807            2118           NaN          NaN   \n",
       "mean        NaN      NaN             NaN  3.975262e+07  2002.470517   \n",
       "std         NaN      NaN             NaN  2.061149e+08    12.474599   \n",
       "min         NaN      NaN             NaN  2.180000e+02  1916.000000   \n",
       "25%         NaN      NaN             NaN  6.000000e+06  1999.000000   \n",
       "50%         NaN      NaN             NaN  2.000000e+07  2005.000000   \n",
       "75%         NaN      NaN             NaN  4.500000e+07  2011.000000   \n",
       "max         NaN      NaN             NaN  1.221550e+10  2016.000000   \n",
       "\n",
       "       actor_2_facebook_likes   imdb_score  aspect_ratio movie_facebook_likes  \n",
       "count             5030.000000  5043.000000   4714.000000          5043.000000  \n",
       "unique                    NaN          NaN           NaN                  NaN  \n",
       "top                       NaN          NaN           NaN                  NaN  \n",
       "freq                      NaN          NaN           NaN                  NaN  \n",
       "mean              1651.754473     6.442138      2.220403          7525.964505  \n",
       "std               4042.438863     1.125116      1.385113         19320.445110  \n",
       "min                  0.000000     1.600000      1.180000             0.000000  \n",
       "25%                281.000000     5.800000      1.850000             0.000000  \n",
       "50%                595.000000     6.600000      2.350000           166.000000  \n",
       "75%                918.000000     7.200000      2.350000          3000.000000  \n",
       "max             137000.000000     9.500000     16.000000        349000.000000  \n",
       "\n",
       "[11 rows x 28 columns]"
      ]
     },
     "execution_count": 5,
     "metadata": {},
     "output_type": "execute_result"
    }
   ],
   "source": [
    "movie_df.describe(include=\"all\")"
   ]
  },
  {
   "cell_type": "markdown",
   "metadata": {},
   "source": [
    "<a id=\"Onderzoeksvraag-1\"></a>\n",
    "## Onderzoeksvraag 1"
   ]
  },
  {
   "cell_type": "markdown",
   "metadata": {},
   "source": [
    "In hoeverre is de omzet van een film te voorspellen op basis van de populariteit op Facebook en IMDB?"
   ]
  },
  {
   "cell_type": "markdown",
   "metadata": {},
   "source": [
    "### Dataverkenning en Data Preperation"
   ]
  },
  {
   "cell_type": "markdown",
   "metadata": {},
   "source": [
    "We maken een kopie van de dataset zodat we bewerkingen kunnen doen aan de dataset zonder de resultaten van andere onderzoeksvragen te beinvloeden."
   ]
  },
  {
   "cell_type": "code",
   "execution_count": 6,
   "metadata": {},
   "outputs": [],
   "source": [
    "movie_df_o1 = movie_df.copy()"
   ]
  },
  {
   "cell_type": "markdown",
   "metadata": {},
   "source": [
    "We zien in de [Nan Values](#NaN-Values) dat er 884 waardes in de `gross` kolom missen. Omdat `gross` de targetvariabele is, is het niet mogelijk een model te trainen die deze variabele moet gaan voorspellen als deze variabele ontbreekt. We kiezen daarom ervoor om alle rijen te verwijderen waar de waarde voor gross NaN is."
   ]
  },
  {
   "cell_type": "code",
   "execution_count": 7,
   "metadata": {},
   "outputs": [],
   "source": [
    "movie_df_o1 = movie_df_o1.dropna(subset=['gross'])"
   ]
  },
  {
   "cell_type": "markdown",
   "metadata": {},
   "source": [
    "We gaan kijken of het weghalen van uitschieters een positief effect heeft op onze dataset. Dit doen we op basis van z-score."
   ]
  },
  {
   "cell_type": "code",
   "execution_count": 8,
   "metadata": {},
   "outputs": [],
   "source": [
    "z_scores = stats.zscore(movie_df_o1[['gross']])\n",
    "abs_z_scores = abs(z_scores)\n",
    "filtered_entries = (abs_z_scores < 3).all(axis=1)\n",
    "movie_df_o1_cleaned = movie_df_o1[filtered_entries]\n"
   ]
  },
  {
   "cell_type": "markdown",
   "metadata": {},
   "source": [
    "We maken een boxplot om de uitschieters voor en na het filteren te laten zien. Hieruit kunnen we zeggen dat het de uitschieters weghaalt."
   ]
  },
  {
   "cell_type": "code",
   "execution_count": 9,
   "metadata": {},
   "outputs": [
    {
     "data": {
      "image/png": "[encoded data removed]",
      "text/plain": [
       "<Figure size 1400x600 with 2 Axes>"
      ]
     },
     "metadata": {},
     "output_type": "display_data"
    }
   ],
   "source": [
    "kolommen = ['gross']\n",
    "\n",
    "# Subsets voor de originele en opgeschoonde dataset\n",
    "subset_origineel = movie_df_o1[kolommen]\n",
    "subset_cleaned = movie_df_o1_cleaned[kolommen]\n",
    "\n",
    "# Maak figuur met 2 boxplots naast elkaar\n",
    "fig, axes = plt.subplots(1, 2, figsize=(14, 6))\n",
    "\n",
    "# Boxplot voor de originele dataset\n",
    "sns.boxplot(data=subset_origineel, ax=axes[0])\n",
    "axes[0].set_title('Boxplot met uitschieters (origineel)')\n",
    "\n",
    "# Boxplot voor de opgeschoonde dataset\n",
    "sns.boxplot(data=subset_cleaned, ax=axes[1])\n",
    "axes[1].set_title('Boxplot zonder uitschieters (cleaned)')\n",
    "\n",
    "# Toon de plot\n",
    "plt.suptitle('Vergelijking van uitschieters: Origineel vs Cleaned')\n",
    "plt.tight_layout()\n",
    "plt.show()"
   ]
  },
  {
   "cell_type": "markdown",
   "metadata": {},
   "source": [
    "Om te achterhalen of het weghalen van uitschieters een positief effect heeft op de correlaties tussen de targetvariabele en de featurevariabelen gebruiken we een twee correlatie heatmaps, een heatmap van voor de datapreperation, en een heatmap van na de datapreperation."
   ]
  },
  {
   "cell_type": "code",
   "execution_count": 10,
   "metadata": {},
   "outputs": [
    {
     "data": {
      "image/png": "[encoded data removed]",
      "text/plain": [
       "<Figure size 1400x600 with 4 Axes>"
      ]
     },
     "metadata": {},
     "output_type": "display_data"
    }
   ],
   "source": [
    "\n",
    "fig, axes = plt.subplots(1, 2, figsize=(14, 6))\n",
    "\n",
    "# Selecteer alleen de numerieke kolommen\n",
    "selected_features = ['gross', 'imdb_score', 'num_voted_users', 'movie_facebook_likes']\n",
    "numeric_columns = movie_df_o1.select_dtypes(include=[np.number])[selected_features]\n",
    "numeric_columns_cleaned = movie_df_o1_cleaned.select_dtypes(include=[np.number])[selected_features]\n",
    "\n",
    "# Bereken de correlatiematrix voor de geselecteerde numerieke kolommen\n",
    "corr_matrix_0 = numeric_columns.corr()\n",
    "corr_matrix_1 = numeric_columns_cleaned.corr()\n",
    "\n",
    "# Maak een heatmap van de correlatiematrix\n",
    "sns.heatmap(corr_matrix_0, \n",
    "            annot=True,\n",
    "            fmt=\".2f\",\n",
    "            cmap='coolwarm',\n",
    "            linewidths=0.5,\n",
    "            cbar_kws={'shrink': .8},\n",
    "            ax=axes[0])\n",
    "axes[0].set_title('Correlatiematrix van Numerieke Variabelen pre clean')\n",
    "axes[0].tick_params(labelrotation=45)\n",
    "\n",
    "# Maak een heatmap van de correlatiematrix\n",
    "sns.heatmap(corr_matrix_1, \n",
    "            annot=True,\n",
    "            fmt=\".2f\",\n",
    "            cmap='coolwarm',\n",
    "            linewidths=0.5,\n",
    "            cbar_kws={'shrink': .8},\n",
    "            ax=axes[1],)\n",
    "axes[1].set_title('Correlatiematrix van Numerieke Variabelen cleaned')\n",
    "axes[1].tick_params(labelrotation=45)\n",
    "\n",
    "# Toon de heatmap\n",
    "plt.suptitle('Vergelijking van correlaties: Origineel vs Cleaned')\n",
    "# plt.xticks(rotation=45, ha='right')\n",
    "\n",
    "plt.tight_layout()  # Zorg voor een nette lay-out\n",
    "plt.show()"
   ]
  },
  {
   "cell_type": "markdown",
   "metadata": {},
   "source": [
    "In de heatmap zien we dat alle correlaties met gross omlaag gaan na het opschonen, dus we gaan verder met de normale dataset."
   ]
  },
  {
   "cell_type": "markdown",
   "metadata": {},
   "source": [
    "We zien in de [Beschrijvende Statistiek](#beschrijvende-statistiek) dat meer dan 25% van de kolom `movie_facebook_likes` een waarde van 0 heeft. Als een film 0 facebook likes heeft is er niet te voorspellen op basis van facebook likes., vaak was een film succuesvol ookal hadden ze geen facebook likes. De uitkomst is dus te random.\n",
    "\n",
    "Je kunt hier op verschillende manieren mee omgaan. Wij hebben gekozen om de volgende twee manieren te proberen:\n",
    "\n",
    "1. We kiezen ervoor om alle waardes die 0 zijn te droppen. We kunnen dan dus ook alleenmaar voor films gaan voorspellen die niet 0 facebook likes hebben.\n",
    "\n",
    "2. We kiezen ervoor om alle 0 waardes op te vullen met het gemiddelde."
   ]
  },
  {
   "cell_type": "code",
   "execution_count": 11,
   "metadata": {},
   "outputs": [],
   "source": [
    "movie_df_o1_0_values_gone = movie_df_o1.loc[~(movie_df_o1['movie_facebook_likes'] == 0)]\n",
    "movie_df_o1_0_values_mean = movie_df_o1\n",
    "movie_df_o1_0_values_mean['movie_facebook_likes'] = movie_df_o1['movie_facebook_likes'].replace(0, movie_df_o1[movie_df_o1['movie_facebook_likes'] != 0]['movie_facebook_likes'].mean())\n"
   ]
  },
  {
   "cell_type": "markdown",
   "metadata": {},
   "source": [
    "Om te kijken welke van deze twee opties het beste is, gaan we weer naar de correlatie kijken."
   ]
  },
  {
   "cell_type": "code",
   "execution_count": 12,
   "metadata": {},
   "outputs": [
    {
     "data": {
      "image/png": "[encoded data removed]",
      "text/plain": [
       "<Figure size 1400x600 with 4 Axes>"
      ]
     },
     "metadata": {},
     "output_type": "display_data"
    }
   ],
   "source": [
    "\n",
    "fig, axes = plt.subplots(1, 2, figsize=(14, 6))\n",
    "\n",
    "# Selecteer alleen de numerieke kolommen\n",
    "selected_features = ['gross', 'movie_facebook_likes']\n",
    "numeric_columns = movie_df_o1_0_values_gone.select_dtypes(include=[np.number])[selected_features]\n",
    "numeric_columns_cleaned = movie_df_o1_0_values_mean.select_dtypes(include=[np.number])[selected_features]\n",
    "\n",
    "# Bereken de correlatiematrix voor de geselecteerde numerieke kolommen\n",
    "corr_matrix_0 = numeric_columns.corr()\n",
    "corr_matrix_1 = numeric_columns_cleaned.corr()\n",
    "\n",
    "# Maak een heatmap van de correlatiematrix\n",
    "sns.heatmap(corr_matrix_0, \n",
    "            annot=True,\n",
    "            fmt=\".2f\",\n",
    "            cmap='coolwarm',\n",
    "            linewidths=0.5,\n",
    "            cbar_kws={'shrink': .8},\n",
    "            ax=axes[0])\n",
    "axes[0].set_title('Correlatiematrix van 0 waardes weggehaald')\n",
    "axes[0].tick_params(labelrotation=45)\n",
    "\n",
    "# Maak een heatmap van de correlatiematrix\n",
    "sns.heatmap(corr_matrix_1, \n",
    "            annot=True,\n",
    "            fmt=\".2f\",\n",
    "            cmap='coolwarm',\n",
    "            linewidths=0.5,\n",
    "            cbar_kws={'shrink': .8},\n",
    "            ax=axes[1],)\n",
    "axes[1].set_title('Correlatiematrix van 0 waardes gevuld met gemiddelde')\n",
    "axes[1].tick_params(labelrotation=45)\n",
    "\n",
    "# Toon de heatmap\n",
    "plt.suptitle('Vergelijking van correlaties: 0 waardes weggehaald vs o waardes gevuld met gemiddelde')\n",
    "\n",
    "plt.tight_layout()  # Zorg voor een nette lay-out\n",
    "plt.show()"
   ]
  },
  {
   "cell_type": "markdown",
   "metadata": {},
   "source": [
    "Als we de 0 waardes weghalen zien we een hogere correlatie met gross dan wanneer we de 0 waardes vullen met het gemiddelde, dus kiezen we ervoor om de 0 waardes weg te halen."
   ]
  },
  {
   "cell_type": "code",
   "execution_count": 13,
   "metadata": {},
   "outputs": [],
   "source": [
    "movie_df_o1 = movie_df_o1_0_values_gone"
   ]
  },
  {
   "cell_type": "markdown",
   "metadata": {},
   "source": [
    "### Model Training"
   ]
  },
  {
   "cell_type": "markdown",
   "metadata": {},
   "source": [
    "Omdat de targetvariabele continu is gaan we gebruik maken van een linear regressie model. We beginnen met het definieren van de features en target variabelen en het maken van een train test split."
   ]
  },
  {
   "cell_type": "code",
   "execution_count": 14,
   "metadata": {},
   "outputs": [
    {
     "data": {
      "text/html": [
       "<div>\n",
       "<style scoped>\n",
       "    .dataframe tbody tr th:only-of-type {\n",
       "        vertical-align: middle;\n",
       "    }\n",
       "\n",
       "    .dataframe tbody tr th {\n",
       "        vertical-align: top;\n",
       "    }\n",
       "\n",
       "    .dataframe thead th {\n",
       "        text-align: right;\n",
       "    }\n",
       "</style>\n",
       "<table border=\"1\" class=\"dataframe\">\n",
       "  <thead>\n",
       "    <tr style=\"text-align: right;\">\n",
       "      <th></th>\n",
       "      <th>imdb_score</th>\n",
       "      <th>num_voted_users</th>\n",
       "      <th>movie_facebook_likes</th>\n",
       "    </tr>\n",
       "  </thead>\n",
       "  <tbody>\n",
       "    <tr>\n",
       "      <th>5023</th>\n",
       "      <td>6.2</td>\n",
       "      <td>1194</td>\n",
       "      <td>324</td>\n",
       "    </tr>\n",
       "    <tr>\n",
       "      <th>4903</th>\n",
       "      <td>6.9</td>\n",
       "      <td>460</td>\n",
       "      <td>96</td>\n",
       "    </tr>\n",
       "    <tr>\n",
       "      <th>1137</th>\n",
       "      <td>7.7</td>\n",
       "      <td>452465</td>\n",
       "      <td>89000</td>\n",
       "    </tr>\n",
       "    <tr>\n",
       "      <th>60</th>\n",
       "      <td>5.8</td>\n",
       "      <td>283418</td>\n",
       "      <td>13000</td>\n",
       "    </tr>\n",
       "    <tr>\n",
       "      <th>2560</th>\n",
       "      <td>7.2</td>\n",
       "      <td>198111</td>\n",
       "      <td>14000</td>\n",
       "    </tr>\n",
       "    <tr>\n",
       "      <th>...</th>\n",
       "      <td>...</td>\n",
       "      <td>...</td>\n",
       "      <td>...</td>\n",
       "    </tr>\n",
       "    <tr>\n",
       "      <th>2323</th>\n",
       "      <td>8.4</td>\n",
       "      <td>221552</td>\n",
       "      <td>11000</td>\n",
       "    </tr>\n",
       "    <tr>\n",
       "      <th>502</th>\n",
       "      <td>5.7</td>\n",
       "      <td>47612</td>\n",
       "      <td>995</td>\n",
       "    </tr>\n",
       "    <tr>\n",
       "      <th>3096</th>\n",
       "      <td>7.3</td>\n",
       "      <td>86956</td>\n",
       "      <td>12000</td>\n",
       "    </tr>\n",
       "    <tr>\n",
       "      <th>674</th>\n",
       "      <td>6.3</td>\n",
       "      <td>147641</td>\n",
       "      <td>18000</td>\n",
       "    </tr>\n",
       "    <tr>\n",
       "      <th>2131</th>\n",
       "      <td>6.3</td>\n",
       "      <td>67893</td>\n",
       "      <td>18000</td>\n",
       "    </tr>\n",
       "  </tbody>\n",
       "</table>\n",
       "<p>567 rows × 3 columns</p>\n",
       "</div>"
      ],
      "text/plain": [
       "      imdb_score  num_voted_users  movie_facebook_likes\n",
       "5023         6.2             1194                   324\n",
       "4903         6.9              460                    96\n",
       "1137         7.7           452465                 89000\n",
       "60           5.8           283418                 13000\n",
       "2560         7.2           198111                 14000\n",
       "...          ...              ...                   ...\n",
       "2323         8.4           221552                 11000\n",
       "502          5.7            47612                   995\n",
       "3096         7.3            86956                 12000\n",
       "674          6.3           147641                 18000\n",
       "2131         6.3            67893                 18000\n",
       "\n",
       "[567 rows x 3 columns]"
      ]
     },
     "execution_count": 14,
     "metadata": {},
     "output_type": "execute_result"
    }
   ],
   "source": [
    "feat_names = ['imdb_score', 'num_voted_users', 'movie_facebook_likes']\n",
    "tar_name = ['gross']\n",
    "feats = movie_df_o1[feat_names]\n",
    "tar = movie_df_o1[tar_name]\n",
    "\n",
    "feats_train, feats_test, tar_train, tar_test = train_test_split(feats, tar, random_state=10)\n",
    "feats_test"
   ]
  },
  {
   "cell_type": "markdown",
   "metadata": {},
   "source": [
    "We maken een model en trainen dit model om de train data."
   ]
  },
  {
   "cell_type": "code",
   "execution_count": 15,
   "metadata": {},
   "outputs": [
    {
     "data": {
      "text/html": [
       "<style>#sk-container-id-1 {\n",
       "  /* Definition of color scheme common for light and dark mode */\n",
       "  --sklearn-color-text: black;\n",
       "  --sklearn-color-line: gray;\n",
       "  /* Definition of color scheme for unfitted estimators */\n",
       "  --sklearn-color-unfitted-level-0: #fff5e6;\n",
       "  --sklearn-color-unfitted-level-1: #f6e4d2;\n",
       "  --sklearn-color-unfitted-level-2: #ffe0b3;\n",
       "  --sklearn-color-unfitted-level-3: chocolate;\n",
       "  /* Definition of color scheme for fitted estimators */\n",
       "  --sklearn-color-fitted-level-0: #f0f8ff;\n",
       "  --sklearn-color-fitted-level-1: #d4ebff;\n",
       "  --sklearn-color-fitted-level-2: #b3dbfd;\n",
       "  --sklearn-color-fitted-level-3: cornflowerblue;\n",
       "\n",
       "  /* Specific color for light theme */\n",
       "  --sklearn-color-text-on-default-background: var(--sg-text-color, var(--theme-code-foreground, var(--jp-content-font-color1, black)));\n",
       "  --sklearn-color-background: var(--sg-background-color, var(--theme-background, var(--jp-layout-color0, white)));\n",
       "  --sklearn-color-border-box: var(--sg-text-color, var(--theme-code-foreground, var(--jp-content-font-color1, black)));\n",
       "  --sklearn-color-icon: #696969;\n",
       "\n",
       "  @media (prefers-color-scheme: dark) {\n",
       "    /* Redefinition of color scheme for dark theme */\n",
       "    --sklearn-color-text-on-default-background: var(--sg-text-color, var(--theme-code-foreground, var(--jp-content-font-color1, white)));\n",
       "    --sklearn-color-background: var(--sg-background-color, var(--theme-background, var(--jp-layout-color0, #111)));\n",
       "    --sklearn-color-border-box: var(--sg-text-color, var(--theme-code-foreground, var(--jp-content-font-color1, white)));\n",
       "    --sklearn-color-icon: #878787;\n",
       "  }\n",
       "}\n",
       "\n",
       "#sk-container-id-1 {\n",
       "  color: var(--sklearn-color-text);\n",
       "}\n",
       "\n",
       "#sk-container-id-1 pre {\n",
       "  padding: 0;\n",
       "}\n",
       "\n",
       "#sk-container-id-1 input.sk-hidden--visually {\n",
       "  border: 0;\n",
       "  clip: rect(1px 1px 1px 1px);\n",
       "  clip: rect(1px, 1px, 1px, 1px);\n",
       "  height: 1px;\n",
       "  margin: -1px;\n",
       "  overflow: hidden;\n",
       "  padding: 0;\n",
       "  position: absolute;\n",
       "  width: 1px;\n",
       "}\n",
       "\n",
       "#sk-container-id-1 div.sk-dashed-wrapped {\n",
       "  border: 1px dashed var(--sklearn-color-line);\n",
       "  margin: 0 0.4em 0.5em 0.4em;\n",
       "  box-sizing: border-box;\n",
       "  padding-bottom: 0.4em;\n",
       "  background-color: var(--sklearn-color-background);\n",
       "}\n",
       "\n",
       "#sk-container-id-1 div.sk-container {\n",
       "  /* jupyter's `normalize.less` sets `[hidden] { display: none; }`\n",
       "     but bootstrap.min.css set `[hidden] { display: none !important; }`\n",
       "     so we also need the `!important` here to be able to override the\n",
       "     default hidden behavior on the sphinx rendered scikit-learn.org.\n",
       "     See: https://github.com/scikit-learn/scikit-learn/issues/21755 */\n",
       "  display: inline-block !important;\n",
       "  position: relative;\n",
       "}\n",
       "\n",
       "#sk-container-id-1 div.sk-text-repr-fallback {\n",
       "  display: none;\n",
       "}\n",
       "\n",
       "div.sk-parallel-item,\n",
       "div.sk-serial,\n",
       "div.sk-item {\n",
       "  /* draw centered vertical line to link estimators */\n",
       "  background-image: linear-gradient(var(--sklearn-color-text-on-default-background), var(--sklearn-color-text-on-default-background));\n",
       "  background-size: 2px 100%;\n",
       "  background-repeat: no-repeat;\n",
       "  background-position: center center;\n",
       "}\n",
       "\n",
       "/* Parallel-specific style estimator block */\n",
       "\n",
       "#sk-container-id-1 div.sk-parallel-item::after {\n",
       "  content: \"\";\n",
       "  width: 100%;\n",
       "  border-bottom: 2px solid var(--sklearn-color-text-on-default-background);\n",
       "  flex-grow: 1;\n",
       "}\n",
       "\n",
       "#sk-container-id-1 div.sk-parallel {\n",
       "  display: flex;\n",
       "  align-items: stretch;\n",
       "  justify-content: center;\n",
       "  background-color: var(--sklearn-color-background);\n",
       "  position: relative;\n",
       "}\n",
       "\n",
       "#sk-container-id-1 div.sk-parallel-item {\n",
       "  display: flex;\n",
       "  flex-direction: column;\n",
       "}\n",
       "\n",
       "#sk-container-id-1 div.sk-parallel-item:first-child::after {\n",
       "  align-self: flex-end;\n",
       "  width: 50%;\n",
       "}\n",
       "\n",
       "#sk-container-id-1 div.sk-parallel-item:last-child::after {\n",
       "  align-self: flex-start;\n",
       "  width: 50%;\n",
       "}\n",
       "\n",
       "#sk-container-id-1 div.sk-parallel-item:only-child::after {\n",
       "  width: 0;\n",
       "}\n",
       "\n",
       "/* Serial-specific style estimator block */\n",
       "\n",
       "#sk-container-id-1 div.sk-serial {\n",
       "  display: flex;\n",
       "  flex-direction: column;\n",
       "  align-items: center;\n",
       "  background-color: var(--sklearn-color-background);\n",
       "  padding-right: 1em;\n",
       "  padding-left: 1em;\n",
       "}\n",
       "\n",
       "\n",
       "/* Toggleable style: style used for estimator/Pipeline/ColumnTransformer box that is\n",
       "clickable and can be expanded/collapsed.\n",
       "- Pipeline and ColumnTransformer use this feature and define the default style\n",
       "- Estimators will overwrite some part of the style using the `sk-estimator` class\n",
       "*/\n",
       "\n",
       "/* Pipeline and ColumnTransformer style (default) */\n",
       "\n",
       "#sk-container-id-1 div.sk-toggleable {\n",
       "  /* Default theme specific background. It is overwritten whether we have a\n",
       "  specific estimator or a Pipeline/ColumnTransformer */\n",
       "  background-color: var(--sklearn-color-background);\n",
       "}\n",
       "\n",
       "/* Toggleable label */\n",
       "#sk-container-id-1 label.sk-toggleable__label {\n",
       "  cursor: pointer;\n",
       "  display: block;\n",
       "  width: 100%;\n",
       "  margin-bottom: 0;\n",
       "  padding: 0.5em;\n",
       "  box-sizing: border-box;\n",
       "  text-align: center;\n",
       "}\n",
       "\n",
       "#sk-container-id-1 label.sk-toggleable__label-arrow:before {\n",
       "  /* Arrow on the left of the label */\n",
       "  content: \"▸\";\n",
       "  float: left;\n",
       "  margin-right: 0.25em;\n",
       "  color: var(--sklearn-color-icon);\n",
       "}\n",
       "\n",
       "#sk-container-id-1 label.sk-toggleable__label-arrow:hover:before {\n",
       "  color: var(--sklearn-color-text);\n",
       "}\n",
       "\n",
       "/* Toggleable content - dropdown */\n",
       "\n",
       "#sk-container-id-1 div.sk-toggleable__content {\n",
       "  max-height: 0;\n",
       "  max-width: 0;\n",
       "  overflow: hidden;\n",
       "  text-align: left;\n",
       "  /* unfitted */\n",
       "  background-color: var(--sklearn-color-unfitted-level-0);\n",
       "}\n",
       "\n",
       "#sk-container-id-1 div.sk-toggleable__content.fitted {\n",
       "  /* fitted */\n",
       "  background-color: var(--sklearn-color-fitted-level-0);\n",
       "}\n",
       "\n",
       "#sk-container-id-1 div.sk-toggleable__content pre {\n",
       "  margin: 0.2em;\n",
       "  border-radius: 0.25em;\n",
       "  color: var(--sklearn-color-text);\n",
       "  /* unfitted */\n",
       "  background-color: var(--sklearn-color-unfitted-level-0);\n",
       "}\n",
       "\n",
       "#sk-container-id-1 div.sk-toggleable__content.fitted pre {\n",
       "  /* unfitted */\n",
       "  background-color: var(--sklearn-color-fitted-level-0);\n",
       "}\n",
       "\n",
       "#sk-container-id-1 input.sk-toggleable__control:checked~div.sk-toggleable__content {\n",
       "  /* Expand drop-down */\n",
       "  max-height: 200px;\n",
       "  max-width: 100%;\n",
       "  overflow: auto;\n",
       "}\n",
       "\n",
       "#sk-container-id-1 input.sk-toggleable__control:checked~label.sk-toggleable__label-arrow:before {\n",
       "  content: \"▾\";\n",
       "}\n",
       "\n",
       "/* Pipeline/ColumnTransformer-specific style */\n",
       "\n",
       "#sk-container-id-1 div.sk-label input.sk-toggleable__control:checked~label.sk-toggleable__label {\n",
       "  color: var(--sklearn-color-text);\n",
       "  background-color: var(--sklearn-color-unfitted-level-2);\n",
       "}\n",
       "\n",
       "#sk-container-id-1 div.sk-label.fitted input.sk-toggleable__control:checked~label.sk-toggleable__label {\n",
       "  background-color: var(--sklearn-color-fitted-level-2);\n",
       "}\n",
       "\n",
       "/* Estimator-specific style */\n",
       "\n",
       "/* Colorize estimator box */\n",
       "#sk-container-id-1 div.sk-estimator input.sk-toggleable__control:checked~label.sk-toggleable__label {\n",
       "  /* unfitted */\n",
       "  background-color: var(--sklearn-color-unfitted-level-2);\n",
       "}\n",
       "\n",
       "#sk-container-id-1 div.sk-estimator.fitted input.sk-toggleable__control:checked~label.sk-toggleable__label {\n",
       "  /* fitted */\n",
       "  background-color: var(--sklearn-color-fitted-level-2);\n",
       "}\n",
       "\n",
       "#sk-container-id-1 div.sk-label label.sk-toggleable__label,\n",
       "#sk-container-id-1 div.sk-label label {\n",
       "  /* The background is the default theme color */\n",
       "  color: var(--sklearn-color-text-on-default-background);\n",
       "}\n",
       "\n",
       "/* On hover, darken the color of the background */\n",
       "#sk-container-id-1 div.sk-label:hover label.sk-toggleable__label {\n",
       "  color: var(--sklearn-color-text);\n",
       "  background-color: var(--sklearn-color-unfitted-level-2);\n",
       "}\n",
       "\n",
       "/* Label box, darken color on hover, fitted */\n",
       "#sk-container-id-1 div.sk-label.fitted:hover label.sk-toggleable__label.fitted {\n",
       "  color: var(--sklearn-color-text);\n",
       "  background-color: var(--sklearn-color-fitted-level-2);\n",
       "}\n",
       "\n",
       "/* Estimator label */\n",
       "\n",
       "#sk-container-id-1 div.sk-label label {\n",
       "  font-family: monospace;\n",
       "  font-weight: bold;\n",
       "  display: inline-block;\n",
       "  line-height: 1.2em;\n",
       "}\n",
       "\n",
       "#sk-container-id-1 div.sk-label-container {\n",
       "  text-align: center;\n",
       "}\n",
       "\n",
       "/* Estimator-specific */\n",
       "#sk-container-id-1 div.sk-estimator {\n",
       "  font-family: monospace;\n",
       "  border: 1px dotted var(--sklearn-color-border-box);\n",
       "  border-radius: 0.25em;\n",
       "  box-sizing: border-box;\n",
       "  margin-bottom: 0.5em;\n",
       "  /* unfitted */\n",
       "  background-color: var(--sklearn-color-unfitted-level-0);\n",
       "}\n",
       "\n",
       "#sk-container-id-1 div.sk-estimator.fitted {\n",
       "  /* fitted */\n",
       "  background-color: var(--sklearn-color-fitted-level-0);\n",
       "}\n",
       "\n",
       "/* on hover */\n",
       "#sk-container-id-1 div.sk-estimator:hover {\n",
       "  /* unfitted */\n",
       "  background-color: var(--sklearn-color-unfitted-level-2);\n",
       "}\n",
       "\n",
       "#sk-container-id-1 div.sk-estimator.fitted:hover {\n",
       "  /* fitted */\n",
       "  background-color: var(--sklearn-color-fitted-level-2);\n",
       "}\n",
       "\n",
       "/* Specification for estimator info (e.g. \"i\" and \"?\") */\n",
       "\n",
       "/* Common style for \"i\" and \"?\" */\n",
       "\n",
       ".sk-estimator-doc-link,\n",
       "a:link.sk-estimator-doc-link,\n",
       "a:visited.sk-estimator-doc-link {\n",
       "  float: right;\n",
       "  font-size: smaller;\n",
       "  line-height: 1em;\n",
       "  font-family: monospace;\n",
       "  background-color: var(--sklearn-color-background);\n",
       "  border-radius: 1em;\n",
       "  height: 1em;\n",
       "  width: 1em;\n",
       "  text-decoration: none !important;\n",
       "  margin-left: 1ex;\n",
       "  /* unfitted */\n",
       "  border: var(--sklearn-color-unfitted-level-1) 1pt solid;\n",
       "  color: var(--sklearn-color-unfitted-level-1);\n",
       "}\n",
       "\n",
       ".sk-estimator-doc-link.fitted,\n",
       "a:link.sk-estimator-doc-link.fitted,\n",
       "a:visited.sk-estimator-doc-link.fitted {\n",
       "  /* fitted */\n",
       "  border: var(--sklearn-color-fitted-level-1) 1pt solid;\n",
       "  color: var(--sklearn-color-fitted-level-1);\n",
       "}\n",
       "\n",
       "/* On hover */\n",
       "div.sk-estimator:hover .sk-estimator-doc-link:hover,\n",
       ".sk-estimator-doc-link:hover,\n",
       "div.sk-label-container:hover .sk-estimator-doc-link:hover,\n",
       ".sk-estimator-doc-link:hover {\n",
       "  /* unfitted */\n",
       "  background-color: var(--sklearn-color-unfitted-level-3);\n",
       "  color: var(--sklearn-color-background);\n",
       "  text-decoration: none;\n",
       "}\n",
       "\n",
       "div.sk-estimator.fitted:hover .sk-estimator-doc-link.fitted:hover,\n",
       ".sk-estimator-doc-link.fitted:hover,\n",
       "div.sk-label-container:hover .sk-estimator-doc-link.fitted:hover,\n",
       ".sk-estimator-doc-link.fitted:hover {\n",
       "  /* fitted */\n",
       "  background-color: var(--sklearn-color-fitted-level-3);\n",
       "  color: var(--sklearn-color-background);\n",
       "  text-decoration: none;\n",
       "}\n",
       "\n",
       "/* Span, style for the box shown on hovering the info icon */\n",
       ".sk-estimator-doc-link span {\n",
       "  display: none;\n",
       "  z-index: 9999;\n",
       "  position: relative;\n",
       "  font-weight: normal;\n",
       "  right: .2ex;\n",
       "  padding: .5ex;\n",
       "  margin: .5ex;\n",
       "  width: min-content;\n",
       "  min-width: 20ex;\n",
       "  max-width: 50ex;\n",
       "  color: var(--sklearn-color-text);\n",
       "  box-shadow: 2pt 2pt 4pt #999;\n",
       "  /* unfitted */\n",
       "  background: var(--sklearn-color-unfitted-level-0);\n",
       "  border: .5pt solid var(--sklearn-color-unfitted-level-3);\n",
       "}\n",
       "\n",
       ".sk-estimator-doc-link.fitted span {\n",
       "  /* fitted */\n",
       "  background: var(--sklearn-color-fitted-level-0);\n",
       "  border: var(--sklearn-color-fitted-level-3);\n",
       "}\n",
       "\n",
       ".sk-estimator-doc-link:hover span {\n",
       "  display: block;\n",
       "}\n",
       "\n",
       "/* \"?\"-specific style due to the `<a>` HTML tag */\n",
       "\n",
       "#sk-container-id-1 a.estimator_doc_link {\n",
       "  float: right;\n",
       "  font-size: 1rem;\n",
       "  line-height: 1em;\n",
       "  font-family: monospace;\n",
       "  background-color: var(--sklearn-color-background);\n",
       "  border-radius: 1rem;\n",
       "  height: 1rem;\n",
       "  width: 1rem;\n",
       "  text-decoration: none;\n",
       "  /* unfitted */\n",
       "  color: var(--sklearn-color-unfitted-level-1);\n",
       "  border: var(--sklearn-color-unfitted-level-1) 1pt solid;\n",
       "}\n",
       "\n",
       "#sk-container-id-1 a.estimator_doc_link.fitted {\n",
       "  /* fitted */\n",
       "  border: var(--sklearn-color-fitted-level-1) 1pt solid;\n",
       "  color: var(--sklearn-color-fitted-level-1);\n",
       "}\n",
       "\n",
       "/* On hover */\n",
       "#sk-container-id-1 a.estimator_doc_link:hover {\n",
       "  /* unfitted */\n",
       "  background-color: var(--sklearn-color-unfitted-level-3);\n",
       "  color: var(--sklearn-color-background);\n",
       "  text-decoration: none;\n",
       "}\n",
       "\n",
       "#sk-container-id-1 a.estimator_doc_link.fitted:hover {\n",
       "  /* fitted */\n",
       "  background-color: var(--sklearn-color-fitted-level-3);\n",
       "}\n",
       "</style><div id=\"sk-container-id-1\" class=\"sk-top-container\"><div class=\"sk-text-repr-fallback\"><pre>LinearRegression()</pre><b>In a Jupyter environment, please rerun this cell to show the HTML representation or trust the notebook. <br />On GitHub, the HTML representation is unable to render, please try loading this page with nbviewer.org.</b></div><div class=\"sk-container\" hidden><div class=\"sk-item\"><div class=\"sk-estimator fitted sk-toggleable\"><input class=\"sk-toggleable__control sk-hidden--visually\" id=\"sk-estimator-id-1\" type=\"checkbox\" checked><label for=\"sk-estimator-id-1\" class=\"sk-toggleable__label fitted sk-toggleable__label-arrow fitted\">&nbsp;&nbsp;LinearRegression<a class=\"sk-estimator-doc-link fitted\" rel=\"noreferrer\" target=\"_blank\" href=\"https://scikit-learn.org/1.5/modules/generated/sklearn.linear_model.LinearRegression.html\">?<span>Documentation for LinearRegression</span></a><span class=\"sk-estimator-doc-link fitted\">i<span>Fitted</span></span></label><div class=\"sk-toggleable__content fitted\"><pre>LinearRegression()</pre></div> </div></div></div></div>"
      ],
      "text/plain": [
       "LinearRegression()"
      ]
     },
     "execution_count": 15,
     "metadata": {},
     "output_type": "execute_result"
    }
   ],
   "source": [
    "model = linear_model.LinearRegression()\n",
    "model.fit(feats_train, tar_train)"
   ]
  },
  {
   "cell_type": "markdown",
   "metadata": {},
   "source": [
    "Om dit model te testen gebruiken we score. Voor lineare regressie is de score de determinatiecoëfficiënt. Met dit model is de score 0.406.\n"
   ]
  },
  {
   "cell_type": "code",
   "execution_count": 16,
   "metadata": {},
   "outputs": [
    {
     "data": {
      "text/plain": [
       "0.40584421282083794"
      ]
     },
     "execution_count": 16,
     "metadata": {},
     "output_type": "execute_result"
    }
   ],
   "source": [
    "model.score(feats_test, tar_test)"
   ]
  },
  {
   "cell_type": "code",
   "execution_count": 17,
   "metadata": {},
   "outputs": [],
   "source": [
    "pred = model.predict(feats_test)"
   ]
  },
  {
   "cell_type": "code",
   "execution_count": 18,
   "metadata": {},
   "outputs": [
    {
     "name": "stdout",
     "output_type": "stream",
     "text": [
      "RMSE met gebruik van het model: 64364691.78\n",
      "RMSE met het gemiddelde van de train set gebruiken: 83652456.24\n"
     ]
    }
   ],
   "source": [
    "\n",
    "print(f\"RMSE met gebruik van het model: {round(root_mean_squared_error(tar_test, pred), 2)}\")\n",
    "print(f\"RMSE met het gemiddelde van de train set gebruiken: {round(root_mean_squared_error(tar_test, [tar_train.mean() for i in range(len(tar_test))]), 2)}\")"
   ]
  },
  {
   "cell_type": "markdown",
   "metadata": {},
   "source": [
    "### Conclusie"
   ]
  },
  {
   "cell_type": "markdown",
   "metadata": {},
   "source": [
    "Na het trainen van het model heeft het een determinatiecoëfficiënt van 0.406 gehaald, dit betekent dat het model beter voorspelt dan wanneer we de gemiddelde omzet nemen als voorspelling (score van 0)."
   ]
  },
  {
   "cell_type": "markdown",
   "metadata": {},
   "source": [
    "<a id=\"Onderzoeksvraag-2\"></a>\n",
    "## Onderzoeksvraag 2"
   ]
  },
  {
   "cell_type": "markdown",
   "metadata": {},
   "source": [
    "Is het mogelijk om op basis van de dataset te voorspellen of een film een oscaar heeft gewonnen dan als we alleenmaar gokken dat een film geen oscaar heeft gewonnen."
   ]
  },
  {
   "cell_type": "markdown",
   "metadata": {},
   "source": [
    "### Dataverkenning en Data Preperation"
   ]
  },
  {
   "cell_type": "markdown",
   "metadata": {},
   "source": [
    "Voor onderzoeksvraag twee gaan we een extra dataset importeren. \n",
    "\n",
    "In dit tweede dataset staan alle films, sinds 1927, die voor een oscaar genomineerd waren of een oscar hebben gewonnen."
   ]
  },
  {
   "cell_type": "code",
   "execution_count": 19,
   "metadata": {},
   "outputs": [],
   "source": [
    "oscars_df = pd.read_csv(\"the_oscar_award.csv\")"
   ]
  },
  {
   "cell_type": "code",
   "execution_count": 20,
   "metadata": {},
   "outputs": [
    {
     "data": {
      "text/html": [
       "<div>\n",
       "<style scoped>\n",
       "    .dataframe tbody tr th:only-of-type {\n",
       "        vertical-align: middle;\n",
       "    }\n",
       "\n",
       "    .dataframe tbody tr th {\n",
       "        vertical-align: top;\n",
       "    }\n",
       "\n",
       "    .dataframe thead th {\n",
       "        text-align: right;\n",
       "    }\n",
       "</style>\n",
       "<table border=\"1\" class=\"dataframe\">\n",
       "  <thead>\n",
       "    <tr style=\"text-align: right;\">\n",
       "      <th></th>\n",
       "      <th>year_film</th>\n",
       "      <th>year_ceremony</th>\n",
       "      <th>ceremony</th>\n",
       "      <th>category</th>\n",
       "      <th>name</th>\n",
       "      <th>film</th>\n",
       "      <th>winner</th>\n",
       "    </tr>\n",
       "  </thead>\n",
       "  <tbody>\n",
       "    <tr>\n",
       "      <th>0</th>\n",
       "      <td>1927</td>\n",
       "      <td>1928</td>\n",
       "      <td>1</td>\n",
       "      <td>ACTOR</td>\n",
       "      <td>Richard Barthelmess</td>\n",
       "      <td>The Noose</td>\n",
       "      <td>False</td>\n",
       "    </tr>\n",
       "    <tr>\n",
       "      <th>1</th>\n",
       "      <td>1927</td>\n",
       "      <td>1928</td>\n",
       "      <td>1</td>\n",
       "      <td>ACTOR</td>\n",
       "      <td>Emil Jannings</td>\n",
       "      <td>The Last Command</td>\n",
       "      <td>True</td>\n",
       "    </tr>\n",
       "    <tr>\n",
       "      <th>2</th>\n",
       "      <td>1927</td>\n",
       "      <td>1928</td>\n",
       "      <td>1</td>\n",
       "      <td>ACTRESS</td>\n",
       "      <td>Louise Dresser</td>\n",
       "      <td>A Ship Comes In</td>\n",
       "      <td>False</td>\n",
       "    </tr>\n",
       "    <tr>\n",
       "      <th>3</th>\n",
       "      <td>1927</td>\n",
       "      <td>1928</td>\n",
       "      <td>1</td>\n",
       "      <td>ACTRESS</td>\n",
       "      <td>Janet Gaynor</td>\n",
       "      <td>7th Heaven</td>\n",
       "      <td>True</td>\n",
       "    </tr>\n",
       "    <tr>\n",
       "      <th>4</th>\n",
       "      <td>1927</td>\n",
       "      <td>1928</td>\n",
       "      <td>1</td>\n",
       "      <td>ACTRESS</td>\n",
       "      <td>Gloria Swanson</td>\n",
       "      <td>Sadie Thompson</td>\n",
       "      <td>False</td>\n",
       "    </tr>\n",
       "  </tbody>\n",
       "</table>\n",
       "</div>"
      ],
      "text/plain": [
       "   year_film  year_ceremony  ceremony category                 name  \\\n",
       "0       1927           1928         1    ACTOR  Richard Barthelmess   \n",
       "1       1927           1928         1    ACTOR        Emil Jannings   \n",
       "2       1927           1928         1  ACTRESS       Louise Dresser   \n",
       "3       1927           1928         1  ACTRESS         Janet Gaynor   \n",
       "4       1927           1928         1  ACTRESS       Gloria Swanson   \n",
       "\n",
       "               film  winner  \n",
       "0         The Noose   False  \n",
       "1  The Last Command    True  \n",
       "2   A Ship Comes In   False  \n",
       "3        7th Heaven    True  \n",
       "4    Sadie Thompson   False  "
      ]
     },
     "execution_count": 20,
     "metadata": {},
     "output_type": "execute_result"
    }
   ],
   "source": [
    "oscars_df.head()"
   ]
  },
  {
   "cell_type": "code",
   "execution_count": 21,
   "metadata": {},
   "outputs": [
    {
     "name": "stdout",
     "output_type": "stream",
     "text": [
      "<class 'pandas.core.frame.DataFrame'>\n",
      "RangeIndex: 10889 entries, 0 to 10888\n",
      "Data columns (total 7 columns):\n",
      " #   Column         Non-Null Count  Dtype \n",
      "---  ------         --------------  ----- \n",
      " 0   year_film      10889 non-null  int64 \n",
      " 1   year_ceremony  10889 non-null  int64 \n",
      " 2   ceremony       10889 non-null  int64 \n",
      " 3   category       10889 non-null  object\n",
      " 4   name           10884 non-null  object\n",
      " 5   film           10570 non-null  object\n",
      " 6   winner         10889 non-null  bool  \n",
      "dtypes: bool(1), int64(3), object(3)\n",
      "memory usage: 521.2+ KB\n"
     ]
    }
   ],
   "source": [
    "oscars_df.info()"
   ]
  },
  {
   "cell_type": "code",
   "execution_count": 22,
   "metadata": {},
   "outputs": [
    {
     "data": {
      "text/plain": [
       "year_film          0\n",
       "year_ceremony      0\n",
       "ceremony           0\n",
       "category           0\n",
       "name               5\n",
       "film             319\n",
       "winner             0\n",
       "dtype: int64"
      ]
     },
     "execution_count": 22,
     "metadata": {},
     "output_type": "execute_result"
    }
   ],
   "source": [
    "oscars_df.isna().sum()"
   ]
  },
  {
   "cell_type": "markdown",
   "metadata": {},
   "source": [
    "We gaan alle rijen verwijderen waar de waarde van \"film\" ontbreekt. De waardes in \"film\" staan voor de naam van de film. Zonder naam van de film kunnen we geen voorspelling over een film doen. "
   ]
  },
  {
   "cell_type": "code",
   "execution_count": 23,
   "metadata": {},
   "outputs": [],
   "source": [
    "oscars_df = oscars_df.dropna(subset=[\"film\"])  # Verwijdert alle NaN's uit de kolom \"film\"."
   ]
  },
  {
   "cell_type": "markdown",
   "metadata": {},
   "source": [
    "Alle rijen waar de \"name\" ontbreekt zijn ook rijen waar de \"film\" ontbreekt. We houden dus een dataset met 0 NaN's over."
   ]
  },
  {
   "cell_type": "code",
   "execution_count": 24,
   "metadata": {},
   "outputs": [
    {
     "data": {
      "text/plain": [
       "0"
      ]
     },
     "execution_count": 24,
     "metadata": {},
     "output_type": "execute_result"
    }
   ],
   "source": [
    "oscars_df.isna().sum().sum()  # Hoeveel NaN's er nog in de dataset zijn."
   ]
  },
  {
   "cell_type": "markdown",
   "metadata": {},
   "source": [
    "We gaan alle kolommen behalve \"film\", \"year_film\" en \"winner\" verwijderen, omdat ze niet nodig zijn voor de voorspelling."
   ]
  },
  {
   "cell_type": "code",
   "execution_count": 25,
   "metadata": {},
   "outputs": [],
   "source": [
    "colums_to_drop = [\"year_ceremony\", \"ceremony\", \"category\", \"name\"]\n",
    "oscars_df = oscars_df.drop(labels=colums_to_drop, axis=1)"
   ]
  },
  {
   "cell_type": "markdown",
   "metadata": {},
   "source": [
    "Verder gaan we ook alle waardes verwijderen waar \"winner\" False is. Dit doen we omdat het hierdoor makkelijker wordt om de datasets samen te voegen. Na het samenvoegen kunnen we alle waardes die NaN zijn op False zetten omdat we weten dat deze films geen oscar hebben gewonnen."
   ]
  },
  {
   "cell_type": "code",
   "execution_count": 26,
   "metadata": {},
   "outputs": [],
   "source": [
    "oscars_df = oscars_df.loc[oscars_df[\"winner\"] == True]"
   ]
  },
  {
   "cell_type": "markdown",
   "metadata": {},
   "source": [
    "Omdat er een aantal films meer dan een oscar hebben gewonnen staan deze films nu vaker in de dataset. We gaan alle duplicates verwijderen."
   ]
  },
  {
   "cell_type": "code",
   "execution_count": 27,
   "metadata": {},
   "outputs": [],
   "source": [
    "oscars_df =  oscars_df.drop_duplicates()"
   ]
  },
  {
   "cell_type": "markdown",
   "metadata": {},
   "source": [
    "Er staan nu 1343 films die een oscar hebben gewonnen in onze tweede dataset. We houden dit hier als referentie voor na het mergen met de andere dataset."
   ]
  },
  {
   "cell_type": "code",
   "execution_count": 28,
   "metadata": {},
   "outputs": [
    {
     "data": {
      "text/plain": [
       "year_film    1343\n",
       "film         1343\n",
       "winner       1343\n",
       "dtype: int64"
      ]
     },
     "execution_count": 28,
     "metadata": {},
     "output_type": "execute_result"
    }
   ],
   "source": [
    "oscars_df.count()"
   ]
  },
  {
   "cell_type": "markdown",
   "metadata": {},
   "source": [
    "#### Datasets Samenvoegen"
   ]
  },
  {
   "cell_type": "markdown",
   "metadata": {},
   "source": [
    "De \"movie_title\"'s in het movie_df hebben allemaal whitespaces achter de naam. We gaan de whitespaces verwijderen, zodat we de datasets kunnen mergen."
   ]
  },
  {
   "cell_type": "code",
   "execution_count": 29,
   "metadata": {},
   "outputs": [],
   "source": [
    "movie_df[\"movie_title\"] =  movie_df[\"movie_title\"].str.strip()  # Verwijdert alle whitespaces voor en achter alle waardes in movie_title."
   ]
  },
  {
   "cell_type": "markdown",
   "metadata": {},
   "source": [
    "We gaan de datasets samenvoegen op de naam van de film (movie_title) en het jaar van de film (title_year). Dit doen we omdat een film soms de zelfde naam heeft, door ook op het jaar te mergen kunnen we zeker stellen dat de juiste rijen worden samengevoegd."
   ]
  },
  {
   "cell_type": "code",
   "execution_count": 30,
   "metadata": {},
   "outputs": [],
   "source": [
    "oscars_df.rename(columns={\"film\" : \"movie_title\", \"year_film\" : \"title_year\"}, inplace=True)  # Vervangt \"winner\" voor \"movie_title\" en \"year\" voor \"title_year\" zodat de kolomnamen het zelfde zijn voor beide datasets.\n",
    "movie_df = movie_df.dropna(subset=[\"title_year\"])  # Dropt alle rijen waar title_year NaN is.\n",
    "movie_df[\"title_year\"] = movie_df[\"title_year\"].astype(\"int64\")  # Maakt van alle waardes in title_year ints.\n",
    "oscars_df[\"movie_title\"] = oscars_df[\"movie_title\"].str.replace(\":\", \"\")  # Replaced \": voor \"\" voor alle rijen in \"movie_title\"\n",
    "movie_df[\"movie_title\"] = movie_df[\"movie_title\"].str.replace(\":\", \"\")  # Replaced \": voor \"\" voor alle rijen in \"movie_title\"\n",
    "\n",
    "merged_df = pd.merge(movie_df, oscars_df, on=[\"movie_title\", \"title_year\"], how=\"left\")  # Mergt de twee datasets als inclusive left join."
   ]
  },
  {
   "cell_type": "code",
   "execution_count": 31,
   "metadata": {},
   "outputs": [
    {
     "name": "stdout",
     "output_type": "stream",
     "text": [
      "<class 'pandas.core.frame.DataFrame'>\n",
      "RangeIndex: 4935 entries, 0 to 4934\n",
      "Data columns (total 2 columns):\n",
      " #   Column       Non-Null Count  Dtype \n",
      "---  ------       --------------  ----- \n",
      " 0   movie_title  4935 non-null   object\n",
      " 1   winner       345 non-null    object\n",
      "dtypes: object(2)\n",
      "memory usage: 77.2+ KB\n"
     ]
    }
   ],
   "source": [
    "merged_df[[\"movie_title\", \"winner\"]].info()"
   ]
  },
  {
   "cell_type": "code",
   "execution_count": 32,
   "metadata": {},
   "outputs": [
    {
     "name": "stdout",
     "output_type": "stream",
     "text": [
      "6.99 %\n"
     ]
    }
   ],
   "source": [
    "aandeel_winners = merged_df[\"winner\"].count() / merged_df[\"movie_title\"].count()  # Berekend het aandeel winners in de gemergde dataset.\n",
    "print(f\"{round(aandeel_winners * 100, 2)} %\")"
   ]
  },
  {
   "cell_type": "markdown",
   "metadata": {},
   "source": [
    "Na het samenvoegen hebben we maar 344 succesvolle merges. Dit komt omdat er helaas een heleboel films die een oscar hebben gewonnen niet in de oorspronkelijke dataset zitten. Er zijn ook een aantal films die net anders zijn geschreven in de twee datasets. We hebben geprobeerd om de merg iets beter te krijgen, door delen van de namen te replacen, maar waren helaas niet zeer successvol (345 in plaats van 344). Vanwegen gebrek aan tijd gaan we hiermee doorwerken, maar als we meer tijd zouden hebben zouden we proberen de dataset aan te vullen met de ontbrekende films. (Dit zouden we kunnen doen door een derde dataset of door de gross, facebook_likes, etc. voor elke film op te zoeken.)\n",
    "\n",
    "We zien dat 7% van de films in de dataset een onscaar heeft gewonnen. We zullen kijken of deze percentage verandert na het opschonen van de gemergde dataset."
   ]
  },
  {
   "cell_type": "markdown",
   "metadata": {},
   "source": [
    "#### Data Prep Merged Dataframe"
   ]
  },
  {
   "cell_type": "markdown",
   "metadata": {},
   "source": [
    "We gaan de missing values (NaN's) van de kolom \"winner\" opvullen met False, omdat we kunnen concluderen dat elke film die nu nog geen waarde heeft geen oscar heeft gewonnen. \n",
    "\n",
    "We hebben ervoor gekozen om een aantal kolommen te verwijderen, die niet relevant zijn voor de onderzoeksvraag."
   ]
  },
  {
   "cell_type": "code",
   "execution_count": 33,
   "metadata": {},
   "outputs": [],
   "source": [
    "merged_df[\"winner\"] = merged_df[\"winner\"].fillna(value=False)"
   ]
  },
  {
   "cell_type": "markdown",
   "metadata": {},
   "source": [
    "Omdat we na het mergen niet nog meer rijen kwijt willen raken waar een film een oscaar heeft gewonnen, gaan we kijken naar de specifieke NaN values voor deze rijen.\n",
    "\n",
    "We zien dat er in de kolommen gross en budget een aantal NaN's zitten en gaan deze opvullen."
   ]
  },
  {
   "cell_type": "code",
   "execution_count": 34,
   "metadata": {},
   "outputs": [
    {
     "name": "stdout",
     "output_type": "stream",
     "text": [
      "<class 'pandas.core.frame.DataFrame'>\n",
      "Index: 345 entries, 0 to 4824\n",
      "Data columns (total 29 columns):\n",
      " #   Column                     Non-Null Count  Dtype  \n",
      "---  ------                     --------------  -----  \n",
      " 0   color                      345 non-null    object \n",
      " 1   director_name              345 non-null    object \n",
      " 2   num_critic_for_reviews     345 non-null    float64\n",
      " 3   duration                   345 non-null    float64\n",
      " 4   director_facebook_likes    345 non-null    float64\n",
      " 5   actor_3_facebook_likes     344 non-null    float64\n",
      " 6   actor_2_name               345 non-null    object \n",
      " 7   actor_1_facebook_likes     345 non-null    float64\n",
      " 8   gross                      302 non-null    float64\n",
      " 9   genres                     345 non-null    object \n",
      " 10  actor_1_name               345 non-null    object \n",
      " 11  movie_title                345 non-null    object \n",
      " 12  num_voted_users            345 non-null    int64  \n",
      " 13  cast_total_facebook_likes  345 non-null    int64  \n",
      " 14  actor_3_name               344 non-null    object \n",
      " 15  facenumber_in_poster       345 non-null    float64\n",
      " 16  plot_keywords              345 non-null    object \n",
      " 17  movie_imdb_link            345 non-null    object \n",
      " 18  num_user_for_reviews       345 non-null    float64\n",
      " 19  language                   345 non-null    object \n",
      " 20  country                    345 non-null    object \n",
      " 21  content_rating             345 non-null    object \n",
      " 22  budget                     337 non-null    float64\n",
      " 23  title_year                 345 non-null    int64  \n",
      " 24  actor_2_facebook_likes     345 non-null    float64\n",
      " 25  imdb_score                 345 non-null    float64\n",
      " 26  aspect_ratio               345 non-null    float64\n",
      " 27  movie_facebook_likes       345 non-null    int64  \n",
      " 28  winner                     345 non-null    bool   \n",
      "dtypes: bool(1), float64(12), int64(4), object(12)\n",
      "memory usage: 78.5+ KB\n"
     ]
    }
   ],
   "source": [
    "merged_df.loc[merged_df[\"winner\"] == True].info()"
   ]
  },
  {
   "cell_type": "markdown",
   "metadata": {},
   "source": [
    "Het was niet mogelijk om voor elke film de gross of het budget te vinden. Hieronder worden alle waardes opgevuld die we wel hebben kunnen vinden."
   ]
  },
  {
   "cell_type": "code",
   "execution_count": 35,
   "metadata": {},
   "outputs": [],
   "source": [
    "gross_values = {\n",
    "    \"All That Jazz\": 37823676,\n",
    "    \"Reds\": 40382659,\n",
    "    \"The Omen\": 60922980,\n",
    "    \"Gandhi\": 52767889,\n",
    "    \"The French Connection\": 51700000,\n",
    "    \"The Deer Hunter\": 48979328,\n",
    "    \"Patton\": 61749765,\n",
    "    \"Julia\": 20714400,\n",
    "    \"Network\": 23689877,\n",
    "    \"Midnight Cowboy\": 44785053,\n",
    "    \"The Apartment\": 18600000,\n",
    "    \"Days of Heaven\": 3446749,\n",
    "    \"The Black Stallion\": 37799643,\n",
    "    \"To Kill a Mockingbird\": 592237,\n",
    "    \"A Streetcar Named Desire\": 53162,\n",
    "    \"From Here to Eternity\": 36416,\n",
    "    \"Mr. Smith Goes to Washington\": 144738,\n",
    "    \"Spellbound\": 19000,\n",
    "    \"Rebecca\": 112282\n",
    "}\n",
    "\n",
    "budget_values = {\n",
    "    \"All That Jazz\": 12000000,\n",
    "    \"Anna Karenina\": 40600000,\n",
    "    \"Coal Miner's Daughter\": 15000000,\n",
    "    \"Howards End\": 8000000,\n",
    "    \"Inside Job\": 2000000,\n",
    "    \"An Inconvenient Truth\": 1500000\n",
    "}\n",
    "\n",
    "for title, value in gross_values.items():\n",
    "    merged_df.loc[merged_df[\"movie_title\"] == title, \"gross\"] = value\n",
    "\n",
    "for title, value in budget_values.items():\n",
    "    merged_df.loc[merged_df[\"movie_title\"] == title, \"budget\"] = value"
   ]
  },
  {
   "cell_type": "markdown",
   "metadata": {},
   "source": [
    "We hebben ervor gekozen om een aantal kolommen te verwijderen die niet relevant zijn voor de onderzoeksvraag.\n",
    "\n",
    "We verwijderen ook alle rijen waar waardes ontbreken."
   ]
  },
  {
   "cell_type": "code",
   "execution_count": 36,
   "metadata": {},
   "outputs": [],
   "source": [
    "colums_to_keep = [\"num_critic_for_reviews\", \"duration\", \"director_facebook_likes\", \"gross\", \"num_voted_users\", \"cast_total_facebook_likes\", \"facenumber_in_poster\", \"budget\", \"title_year\", \"imdb_score\", \"movie_facebook_likes\", \"winner\"]\n",
    "merged_df = merged_df[colums_to_keep]\n",
    "merged_df.dropna(inplace=True)  # Dropt alle rijen waar een Nan in voorkomt."
   ]
  },
  {
   "cell_type": "markdown",
   "metadata": {},
   "source": [
    "### Model Taining"
   ]
  },
  {
   "cell_type": "markdown",
   "metadata": {},
   "source": [
    "We gaan een decision tree trainen die als target moet gaan voorspellen of een film wel of niet een oscaar heeft gewonnen."
   ]
  },
  {
   "cell_type": "code",
   "execution_count": 37,
   "metadata": {},
   "outputs": [
    {
     "name": "stdout",
     "output_type": "stream",
     "text": [
      "Model F1-score: 0.706\n"
     ]
    }
   ],
   "source": [
    "# Definieer de namen van de feature- en targetkolommen\n",
    "feature_kolom_namen = [\"num_critic_for_reviews\", \"duration\", \"director_facebook_likes\", \"gross\", \"num_voted_users\", \"cast_total_facebook_likes\", \"facenumber_in_poster\", \"budget\", \"title_year\", \"imdb_score\", \"movie_facebook_likes\"]\n",
    "target_kolom_naam = [\"winner\"]\n",
    "\n",
    "# Extraheer de feature- en targetdata uit de samengevoegde DataFrame\n",
    "features = merged_df[feature_kolom_namen]\n",
    "target = merged_df[target_kolom_naam]\n",
    "\n",
    "# Maak nieuwe features aan\n",
    "features[\"gross_to_budget_ratio\"] = features[\"gross\"] / features[\"budget\"]\n",
    "features[\"avg_cast_facebook_likes\"] = features[\"cast_total_facebook_likes\"] / features[\"num_voted_users\"]\n",
    "\n",
    "# Verdeel de data in trainings- en testsets\n",
    "features_train, features_test, target_train, target_test = train_test_split(features, target, test_size=0.2, random_state=42)\n",
    "\n",
    "# Definieer de hyperparameter tuning ruimte\n",
    "param_grid = {\n",
    "    \"max_depth\": [3, 5, 7],\n",
    "    \"min_samples_split\": [2, 5, 10],\n",
    "    \"min_samples_leaf\": [1, 5, 10]\n",
    "}\n",
    "\n",
    "# Maak en train een Random Forest Classifier met hyperparameter tuning\n",
    "model = RandomForestClassifier(criterion=\"gini\")\n",
    "grid_search = GridSearchCV(model, param_grid, cv=5, scoring=\"f1_macro\")\n",
    "grid_search.fit(features_train, target_train.values.ravel())\n",
    "\n",
    "# Sla het beste model op schijf op met behulp van joblib\n",
    "beste_model = grid_search.best_estimator_\n",
    "joblib.dump(beste_model, 'beste_random_forest_model.pkl')  # Model opslaan\n",
    "\n",
    "# Doe voorspellingen op de testdata\n",
    "target_voorspellingen = beste_model.predict(features_test)\n",
    "\n",
    "# Evalueer de prestaties van het model met behulp van de F1-score\n",
    "f1 = f1_score(target_test.values.ravel(), target_voorspellingen, average=\"macro\")\n",
    "print(f\"Model F1-score: {f1:.3f}\")"
   ]
  },
  {
   "cell_type": "markdown",
   "metadata": {},
   "source": [
    "Decision Tree Plot"
   ]
  },
  {
   "cell_type": "code",
   "execution_count": 38,
   "metadata": {},
   "outputs": [
    {
     "data": {
      "image/png": "[encoded data removed]",
      "text/plain": [
       "<Figure size 2000x1000 with 1 Axes>"
      ]
     },
     "metadata": {},
     "output_type": "display_data"
    }
   ],
   "source": [
    "# Bereken de gemiddelde feature importance van elke boom in het bos\n",
    "importances = np.mean([tree.feature_importances_ for tree in beste_model.estimators_], axis=0)\n",
    "\n",
    "# Pak de boom met de hoogste feature importance score\n",
    "best_tree_index = np.argmax(importances)\n",
    "best_tree = beste_model.estimators_[best_tree_index]\n",
    "\n",
    "# Visualiseren van de 'beste' boom op basis van de feature importance\n",
    "plt.figure(figsize=(20, 10))\n",
    "plot_tree(best_tree, feature_names=features.columns, filled=True, rounded=True, class_names=[\"Not Winner\", \"Winner\"])\n",
    "plt.show()\n"
   ]
  },
  {
   "cell_type": "markdown",
   "metadata": {},
   "source": [
    "In deze test gaan we vergelijken hoe het basismodel scored versus de random dorest model."
   ]
  },
  {
   "cell_type": "code",
   "execution_count": 39,
   "metadata": {},
   "outputs": [
    {
     "name": "stdout",
     "output_type": "stream",
     "text": [
      "Basismodel F1-score (altijd voorspelt geen winst): 0.476\n",
      "Getraind Random Forest Model F1-score: 0.706\n",
      "Verbetering ten opzichte van het basismodel: 0.230\n"
     ]
    }
   ],
   "source": [
    "# Definieer de voorspellingen van het basismodel (altijd 'geen winst' voorspellen, waarbij 0 'geen winst' betekent)\n",
    "baseline_voorspellingen = [0] * len(target_test)\n",
    "\n",
    "# Evalueer de prestaties van het basismodel met behulp van de F1-score\n",
    "baseline_f1 = f1_score(target_test.values.ravel(), baseline_voorspellingen, average=\"macro\")\n",
    "print(f\"Basismodel F1-score (altijd voorspelt geen winst): {baseline_f1:.3f}\")\n",
    "\n",
    "# Vergelijk met het getrainde Random Forest-model\n",
    "print(f\"Getraind Random Forest Model F1-score: {f1:.3f}\")\n",
    "\n",
    "# Toon de verbetering ten opzichte van het basismodel\n",
    "verbetering = f1 - baseline_f1\n",
    "print(f\"Verbetering ten opzichte van het basismodel: {verbetering:.3f}\")"
   ]
  },
  {
   "cell_type": "markdown",
   "metadata": {},
   "source": [
    "### Conclusie"
   ]
  },
  {
   "cell_type": "markdown",
   "metadata": {},
   "source": [
    "In deze case voorspelt het basismodel altijd 'geen winst', wat resulteert in een F1-score van 0,476. Het getrainde Random Forest-model heeft echter een aanzienlijk betere F1-score van 0,740. Dit toont aan dat het Random Forest-model in staat is om de prestaties aanzienlijk te verbeteren, met een verbetering van 0,263 ten opzichte van het basismodel. Dit suggereert dat het Random Forest-model effectief is in het identificeren van winnende films."
   ]
  }
 ],
 "metadata": {
  "kernelspec": {
   "display_name": "V2a",
   "language": "python",
   "name": "python3"
  },
  "language_info": {
   "codemirror_mode": {
    "name": "ipython",
    "version": 3
   },
   "file_extension": ".py",
   "mimetype": "text/x-python",
   "name": "python",
   "nbconvert_exporter": "python",
   "pygments_lexer": "ipython3",
   "version": "3.11.3"
  }
 },
 "nbformat": 4,
 "nbformat_minor": 2
}
